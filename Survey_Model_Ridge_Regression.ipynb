{
 "cells": [
  {
   "cell_type": "code",
   "execution_count": 1,
   "metadata": {},
   "outputs": [],
   "source": [
    "import pandas as pd\n",
    "import numpy as np\n",
    "import seaborn as sns\n",
    "import matplotlib.pyplot as plt \n",
    "%matplotlib inline\n",
    "from category_encoders import OneHotEncoder\n",
    "from sklearn.impute import SimpleImputer\n",
    "from sklearn.model_selection import train_test_split\n",
    "from sklearn.linear_model import LinearRegression, Ridge\n",
    "from sklearn.metrics import mean_absolute_error\n",
    "from sklearn.pipeline import make_pipeline\n",
    "import warnings\n",
    "warnings.filterwarnings('ignore')"
   ]
  },
  {
   "cell_type": "code",
   "execution_count": 2,
   "metadata": {},
   "outputs": [],
   "source": [
    "data = pd.read_csv(\"survey_results_public.csv\")"
   ]
  },
  {
   "cell_type": "code",
   "execution_count": 3,
   "metadata": {},
   "outputs": [
    {
     "name": "stdout",
     "output_type": "stream",
     "text": [
      "data shape: (64461, 61)\n"
     ]
    },
    {
     "data": {
      "text/html": [
       "<div>\n",
       "<style scoped>\n",
       "    .dataframe tbody tr th:only-of-type {\n",
       "        vertical-align: middle;\n",
       "    }\n",
       "\n",
       "    .dataframe tbody tr th {\n",
       "        vertical-align: top;\n",
       "    }\n",
       "\n",
       "    .dataframe thead th {\n",
       "        text-align: right;\n",
       "    }\n",
       "</style>\n",
       "<table border=\"1\" class=\"dataframe\">\n",
       "  <thead>\n",
       "    <tr style=\"text-align: right;\">\n",
       "      <th></th>\n",
       "      <th>Respondent</th>\n",
       "      <th>MainBranch</th>\n",
       "      <th>Hobbyist</th>\n",
       "      <th>Age</th>\n",
       "      <th>Age1stCode</th>\n",
       "      <th>CompFreq</th>\n",
       "      <th>CompTotal</th>\n",
       "      <th>ConvertedComp</th>\n",
       "      <th>Country</th>\n",
       "      <th>CurrencyDesc</th>\n",
       "      <th>...</th>\n",
       "      <th>SurveyEase</th>\n",
       "      <th>SurveyLength</th>\n",
       "      <th>Trans</th>\n",
       "      <th>UndergradMajor</th>\n",
       "      <th>WebframeDesireNextYear</th>\n",
       "      <th>WebframeWorkedWith</th>\n",
       "      <th>WelcomeChange</th>\n",
       "      <th>WorkWeekHrs</th>\n",
       "      <th>YearsCode</th>\n",
       "      <th>YearsCodePro</th>\n",
       "    </tr>\n",
       "  </thead>\n",
       "  <tbody>\n",
       "    <tr>\n",
       "      <th>0</th>\n",
       "      <td>1</td>\n",
       "      <td>I am a developer by profession</td>\n",
       "      <td>Yes</td>\n",
       "      <td>NaN</td>\n",
       "      <td>13</td>\n",
       "      <td>Monthly</td>\n",
       "      <td>NaN</td>\n",
       "      <td>NaN</td>\n",
       "      <td>Germany</td>\n",
       "      <td>European Euro</td>\n",
       "      <td>...</td>\n",
       "      <td>Neither easy nor difficult</td>\n",
       "      <td>Appropriate in length</td>\n",
       "      <td>No</td>\n",
       "      <td>Computer science, computer engineering, or sof...</td>\n",
       "      <td>ASP.NET Core</td>\n",
       "      <td>ASP.NET;ASP.NET Core</td>\n",
       "      <td>Just as welcome now as I felt last year</td>\n",
       "      <td>50.0</td>\n",
       "      <td>36</td>\n",
       "      <td>27</td>\n",
       "    </tr>\n",
       "    <tr>\n",
       "      <th>1</th>\n",
       "      <td>2</td>\n",
       "      <td>I am a developer by profession</td>\n",
       "      <td>No</td>\n",
       "      <td>NaN</td>\n",
       "      <td>19</td>\n",
       "      <td>NaN</td>\n",
       "      <td>NaN</td>\n",
       "      <td>NaN</td>\n",
       "      <td>United Kingdom</td>\n",
       "      <td>Pound sterling</td>\n",
       "      <td>...</td>\n",
       "      <td>NaN</td>\n",
       "      <td>NaN</td>\n",
       "      <td>NaN</td>\n",
       "      <td>Computer science, computer engineering, or sof...</td>\n",
       "      <td>NaN</td>\n",
       "      <td>NaN</td>\n",
       "      <td>Somewhat more welcome now than last year</td>\n",
       "      <td>NaN</td>\n",
       "      <td>7</td>\n",
       "      <td>4</td>\n",
       "    </tr>\n",
       "    <tr>\n",
       "      <th>2</th>\n",
       "      <td>3</td>\n",
       "      <td>I code primarily as a hobby</td>\n",
       "      <td>Yes</td>\n",
       "      <td>NaN</td>\n",
       "      <td>15</td>\n",
       "      <td>NaN</td>\n",
       "      <td>NaN</td>\n",
       "      <td>NaN</td>\n",
       "      <td>Russian Federation</td>\n",
       "      <td>NaN</td>\n",
       "      <td>...</td>\n",
       "      <td>Neither easy nor difficult</td>\n",
       "      <td>Appropriate in length</td>\n",
       "      <td>NaN</td>\n",
       "      <td>NaN</td>\n",
       "      <td>NaN</td>\n",
       "      <td>NaN</td>\n",
       "      <td>Somewhat more welcome now than last year</td>\n",
       "      <td>NaN</td>\n",
       "      <td>4</td>\n",
       "      <td>NaN</td>\n",
       "    </tr>\n",
       "    <tr>\n",
       "      <th>3</th>\n",
       "      <td>4</td>\n",
       "      <td>I am a developer by profession</td>\n",
       "      <td>Yes</td>\n",
       "      <td>25.0</td>\n",
       "      <td>18</td>\n",
       "      <td>NaN</td>\n",
       "      <td>NaN</td>\n",
       "      <td>NaN</td>\n",
       "      <td>Albania</td>\n",
       "      <td>Albanian lek</td>\n",
       "      <td>...</td>\n",
       "      <td>NaN</td>\n",
       "      <td>NaN</td>\n",
       "      <td>No</td>\n",
       "      <td>Computer science, computer engineering, or sof...</td>\n",
       "      <td>NaN</td>\n",
       "      <td>NaN</td>\n",
       "      <td>Somewhat less welcome now than last year</td>\n",
       "      <td>40.0</td>\n",
       "      <td>7</td>\n",
       "      <td>4</td>\n",
       "    </tr>\n",
       "    <tr>\n",
       "      <th>4</th>\n",
       "      <td>5</td>\n",
       "      <td>I used to be a developer by profession, but no...</td>\n",
       "      <td>Yes</td>\n",
       "      <td>31.0</td>\n",
       "      <td>16</td>\n",
       "      <td>NaN</td>\n",
       "      <td>NaN</td>\n",
       "      <td>NaN</td>\n",
       "      <td>United States</td>\n",
       "      <td>NaN</td>\n",
       "      <td>...</td>\n",
       "      <td>Easy</td>\n",
       "      <td>Too short</td>\n",
       "      <td>No</td>\n",
       "      <td>Computer science, computer engineering, or sof...</td>\n",
       "      <td>Django;Ruby on Rails</td>\n",
       "      <td>Ruby on Rails</td>\n",
       "      <td>Just as welcome now as I felt last year</td>\n",
       "      <td>NaN</td>\n",
       "      <td>15</td>\n",
       "      <td>8</td>\n",
       "    </tr>\n",
       "  </tbody>\n",
       "</table>\n",
       "<p>5 rows × 61 columns</p>\n",
       "</div>"
      ],
      "text/plain": [
       "   Respondent                                         MainBranch Hobbyist  \\\n",
       "0           1                     I am a developer by profession      Yes   \n",
       "1           2                     I am a developer by profession       No   \n",
       "2           3                        I code primarily as a hobby      Yes   \n",
       "3           4                     I am a developer by profession      Yes   \n",
       "4           5  I used to be a developer by profession, but no...      Yes   \n",
       "\n",
       "    Age Age1stCode CompFreq  CompTotal  ConvertedComp             Country  \\\n",
       "0   NaN         13  Monthly        NaN            NaN             Germany   \n",
       "1   NaN         19      NaN        NaN            NaN      United Kingdom   \n",
       "2   NaN         15      NaN        NaN            NaN  Russian Federation   \n",
       "3  25.0         18      NaN        NaN            NaN             Albania   \n",
       "4  31.0         16      NaN        NaN            NaN       United States   \n",
       "\n",
       "     CurrencyDesc  ...                  SurveyEase           SurveyLength  \\\n",
       "0   European Euro  ...  Neither easy nor difficult  Appropriate in length   \n",
       "1  Pound sterling  ...                         NaN                    NaN   \n",
       "2             NaN  ...  Neither easy nor difficult  Appropriate in length   \n",
       "3    Albanian lek  ...                         NaN                    NaN   \n",
       "4             NaN  ...                        Easy              Too short   \n",
       "\n",
       "  Trans                                     UndergradMajor  \\\n",
       "0    No  Computer science, computer engineering, or sof...   \n",
       "1   NaN  Computer science, computer engineering, or sof...   \n",
       "2   NaN                                                NaN   \n",
       "3    No  Computer science, computer engineering, or sof...   \n",
       "4    No  Computer science, computer engineering, or sof...   \n",
       "\n",
       "  WebframeDesireNextYear    WebframeWorkedWith  \\\n",
       "0           ASP.NET Core  ASP.NET;ASP.NET Core   \n",
       "1                    NaN                   NaN   \n",
       "2                    NaN                   NaN   \n",
       "3                    NaN                   NaN   \n",
       "4   Django;Ruby on Rails         Ruby on Rails   \n",
       "\n",
       "                              WelcomeChange WorkWeekHrs YearsCode YearsCodePro  \n",
       "0   Just as welcome now as I felt last year        50.0        36           27  \n",
       "1  Somewhat more welcome now than last year         NaN         7            4  \n",
       "2  Somewhat more welcome now than last year         NaN         4          NaN  \n",
       "3  Somewhat less welcome now than last year        40.0         7            4  \n",
       "4   Just as welcome now as I felt last year         NaN        15            8  \n",
       "\n",
       "[5 rows x 61 columns]"
      ]
     },
     "execution_count": 3,
     "metadata": {},
     "output_type": "execute_result"
    }
   ],
   "source": [
    "print(\"data shape:\", data.shape)\n",
    "data.head()"
   ]
  },
  {
   "cell_type": "code",
   "execution_count": 4,
   "metadata": {},
   "outputs": [
    {
     "name": "stdout",
     "output_type": "stream",
     "text": [
      "<class 'pandas.core.frame.DataFrame'>\n",
      "RangeIndex: 64461 entries, 0 to 64460\n",
      "Data columns (total 61 columns):\n",
      " #   Column                        Non-Null Count  Dtype  \n",
      "---  ------                        --------------  -----  \n",
      " 0   Respondent                    64461 non-null  int64  \n",
      " 1   MainBranch                    64162 non-null  object \n",
      " 2   Hobbyist                      64416 non-null  object \n",
      " 3   Age                           45446 non-null  float64\n",
      " 4   Age1stCode                    57900 non-null  object \n",
      " 5   CompFreq                      40069 non-null  object \n",
      " 6   CompTotal                     34826 non-null  float64\n",
      " 7   ConvertedComp                 34756 non-null  float64\n",
      " 8   Country                       64072 non-null  object \n",
      " 9   CurrencyDesc                  45472 non-null  object \n",
      " 10  CurrencySymbol                45472 non-null  object \n",
      " 11  DatabaseDesireNextYear        44070 non-null  object \n",
      " 12  DatabaseWorkedWith            49537 non-null  object \n",
      " 13  DevType                       49370 non-null  object \n",
      " 14  EdLevel                       57431 non-null  object \n",
      " 15  Employment                    63854 non-null  object \n",
      " 16  Ethnicity                     45948 non-null  object \n",
      " 17  Gender                        50557 non-null  object \n",
      " 18  JobFactors                    49349 non-null  object \n",
      " 19  JobSat                        45194 non-null  object \n",
      " 20  JobSeek                       51727 non-null  object \n",
      " 21  LanguageDesireNextYear        54113 non-null  object \n",
      " 22  LanguageWorkedWith            57378 non-null  object \n",
      " 23  MiscTechDesireNextYear        42379 non-null  object \n",
      " 24  MiscTechWorkedWith            40314 non-null  object \n",
      " 25  NEWCollabToolsDesireNextYear  47287 non-null  object \n",
      " 26  NEWCollabToolsWorkedWith      52883 non-null  object \n",
      " 27  NEWDevOps                     42686 non-null  object \n",
      " 28  NEWDevOpsImpt                 41732 non-null  object \n",
      " 29  NEWEdImpt                     48465 non-null  object \n",
      " 30  NEWJobHunt                    42286 non-null  object \n",
      " 31  NEWJobHuntResearch            41022 non-null  object \n",
      " 32  NEWLearn                      56156 non-null  object \n",
      " 33  NEWOffTopic                   50804 non-null  object \n",
      " 34  NEWOnboardGood                42623 non-null  object \n",
      " 35  NEWOtherComms                 57205 non-null  object \n",
      " 36  NEWOvertime                   43231 non-null  object \n",
      " 37  NEWPurchaseResearch           37321 non-null  object \n",
      " 38  NEWPurpleLink                 54803 non-null  object \n",
      " 39  NEWSOSites                    58275 non-null  object \n",
      " 40  NEWStuck                      54983 non-null  object \n",
      " 41  OpSys                         56228 non-null  object \n",
      " 42  OrgSize                       44334 non-null  object \n",
      " 43  PlatformDesireNextYear        50605 non-null  object \n",
      " 44  PlatformWorkedWith            53843 non-null  object \n",
      " 45  PurchaseWhat                  39364 non-null  object \n",
      " 46  Sexuality                     43992 non-null  object \n",
      " 47  SOAccount                     56805 non-null  object \n",
      " 48  SOComm                        56476 non-null  object \n",
      " 49  SOPartFreq                    46792 non-null  object \n",
      " 50  SOVisitFreq                   56970 non-null  object \n",
      " 51  SurveyEase                    51802 non-null  object \n",
      " 52  SurveyLength                  51701 non-null  object \n",
      " 53  Trans                         49345 non-null  object \n",
      " 54  UndergradMajor                50995 non-null  object \n",
      " 55  WebframeDesireNextYear        40024 non-null  object \n",
      " 56  WebframeWorkedWith            42279 non-null  object \n",
      " 57  WelcomeChange                 52683 non-null  object \n",
      " 58  WorkWeekHrs                   41151 non-null  float64\n",
      " 59  YearsCode                     57684 non-null  object \n",
      " 60  YearsCodePro                  46349 non-null  object \n",
      "dtypes: float64(4), int64(1), object(56)\n",
      "memory usage: 30.0+ MB\n"
     ]
    }
   ],
   "source": [
    "data.info()"
   ]
  },
  {
   "cell_type": "code",
   "execution_count": 5,
   "metadata": {},
   "outputs": [
    {
     "data": {
      "text/plain": [
       "['Age',\n",
       " 'Age1stCode',\n",
       " 'CompFreq',\n",
       " 'CompTotal',\n",
       " 'ConvertedComp',\n",
       " 'Country',\n",
       " 'CurrencyDesc',\n",
       " 'CurrencySymbol',\n",
       " 'DatabaseDesireNextYear',\n",
       " 'DatabaseWorkedWith',\n",
       " 'DevType',\n",
       " 'EdLevel',\n",
       " 'Employment',\n",
       " 'Ethnicity',\n",
       " 'Gender',\n",
       " 'Hobbyist',\n",
       " 'JobFactors',\n",
       " 'JobSat',\n",
       " 'JobSeek',\n",
       " 'LanguageDesireNextYear',\n",
       " 'LanguageWorkedWith',\n",
       " 'MainBranch',\n",
       " 'MiscTechDesireNextYear',\n",
       " 'MiscTechWorkedWith',\n",
       " 'NEWCollabToolsDesireNextYear',\n",
       " 'NEWCollabToolsWorkedWith',\n",
       " 'NEWDevOps',\n",
       " 'NEWDevOpsImpt',\n",
       " 'NEWEdImpt',\n",
       " 'NEWJobHunt',\n",
       " 'NEWJobHuntResearch',\n",
       " 'NEWLearn',\n",
       " 'NEWOffTopic',\n",
       " 'NEWOnboardGood',\n",
       " 'NEWOtherComms',\n",
       " 'NEWOvertime',\n",
       " 'NEWPurchaseResearch',\n",
       " 'NEWPurpleLink',\n",
       " 'NEWSOSites',\n",
       " 'NEWStuck',\n",
       " 'OpSys',\n",
       " 'OrgSize',\n",
       " 'PlatformDesireNextYear',\n",
       " 'PlatformWorkedWith',\n",
       " 'PurchaseWhat',\n",
       " 'Respondent',\n",
       " 'SOAccount',\n",
       " 'SOComm',\n",
       " 'SOPartFreq',\n",
       " 'SOVisitFreq',\n",
       " 'Sexuality',\n",
       " 'SurveyEase',\n",
       " 'SurveyLength',\n",
       " 'Trans',\n",
       " 'UndergradMajor',\n",
       " 'WebframeDesireNextYear',\n",
       " 'WebframeWorkedWith',\n",
       " 'WelcomeChange',\n",
       " 'WorkWeekHrs',\n",
       " 'YearsCode',\n",
       " 'YearsCodePro']"
      ]
     },
     "execution_count": 5,
     "metadata": {},
     "output_type": "execute_result"
    }
   ],
   "source": [
    "sorted(data.columns)"
   ]
  },
  {
   "cell_type": "markdown",
   "metadata": {},
   "source": [
    "## Selecting columns that will be needed for this analysis and prediction of salary"
   ]
  },
  {
   "cell_type": "code",
   "execution_count": 6,
   "metadata": {},
   "outputs": [],
   "source": [
    "df = data[['Age', 'Age1stCode', 'ConvertedComp', 'Country', 'DatabaseWorkedWith', 'DevType', 'EdLevel', 'Employment', \n",
    "           'Ethnicity', 'Gender', 'Hobbyist', 'LanguageWorkedWith', 'MainBranch', 'MiscTechWorkedWith', \n",
    "           'NEWCollabToolsWorkedWith', 'NEWEdImpt', 'NEWJobHunt', 'NEWLearn', 'OpSys', 'OrgSize', 'UndergradMajor', \n",
    "           'WebframeWorkedWith', 'WorkWeekHrs', 'YearsCode', 'YearsCodePro']]"
   ]
  },
  {
   "cell_type": "code",
   "execution_count": 7,
   "metadata": {},
   "outputs": [
    {
     "name": "stdout",
     "output_type": "stream",
     "text": [
      "<class 'pandas.core.frame.DataFrame'>\n",
      "RangeIndex: 64461 entries, 0 to 64460\n",
      "Data columns (total 25 columns):\n",
      " #   Column                    Non-Null Count  Dtype  \n",
      "---  ------                    --------------  -----  \n",
      " 0   Age                       45446 non-null  float64\n",
      " 1   Age1stCode                57900 non-null  object \n",
      " 2   ConvertedComp             34756 non-null  float64\n",
      " 3   Country                   64072 non-null  object \n",
      " 4   DatabaseWorkedWith        49537 non-null  object \n",
      " 5   DevType                   49370 non-null  object \n",
      " 6   EdLevel                   57431 non-null  object \n",
      " 7   Employment                63854 non-null  object \n",
      " 8   Ethnicity                 45948 non-null  object \n",
      " 9   Gender                    50557 non-null  object \n",
      " 10  Hobbyist                  64416 non-null  object \n",
      " 11  LanguageWorkedWith        57378 non-null  object \n",
      " 12  MainBranch                64162 non-null  object \n",
      " 13  MiscTechWorkedWith        40314 non-null  object \n",
      " 14  NEWCollabToolsWorkedWith  52883 non-null  object \n",
      " 15  NEWEdImpt                 48465 non-null  object \n",
      " 16  NEWJobHunt                42286 non-null  object \n",
      " 17  NEWLearn                  56156 non-null  object \n",
      " 18  OpSys                     56228 non-null  object \n",
      " 19  OrgSize                   44334 non-null  object \n",
      " 20  UndergradMajor            50995 non-null  object \n",
      " 21  WebframeWorkedWith        42279 non-null  object \n",
      " 22  WorkWeekHrs               41151 non-null  float64\n",
      " 23  YearsCode                 57684 non-null  object \n",
      " 24  YearsCodePro              46349 non-null  object \n",
      "dtypes: float64(3), object(22)\n",
      "memory usage: 12.3+ MB\n"
     ]
    }
   ],
   "source": [
    "df.info()"
   ]
  },
  {
   "cell_type": "markdown",
   "metadata": {},
   "source": [
    "### My target variable \"ConvertedComp\" has a lot of missing values so I'll be dropping the mising values and their corresponding rows across the dataset"
   ]
  },
  {
   "cell_type": "code",
   "execution_count": 8,
   "metadata": {},
   "outputs": [
    {
     "name": "stdout",
     "output_type": "stream",
     "text": [
      "df shape: (34756, 25)\n"
     ]
    }
   ],
   "source": [
    "df.dropna(subset=['ConvertedComp'], inplace=True)\n",
    "print('df shape:', df.shape)"
   ]
  },
  {
   "cell_type": "markdown",
   "metadata": {},
   "source": [
    "### The number of columns have reduced to 34756 from 64461"
   ]
  },
  {
   "cell_type": "markdown",
   "metadata": {},
   "source": [
    "# Data Preprocessing and Exploration"
   ]
  },
  {
   "cell_type": "markdown",
   "metadata": {},
   "source": [
    "## Converting object data to numeric data"
   ]
  },
  {
   "cell_type": "code",
   "execution_count": 9,
   "metadata": {},
   "outputs": [],
   "source": [
    "df['Age1stCode'] = pd.to_numeric(df['Age1stCode'], errors='coerce')\n",
    "df['YearsCode'] = pd.to_numeric(df['YearsCode'], errors='coerce')\n",
    "df['YearsCodePro'] = pd.to_numeric(df['YearsCodePro'], errors='coerce')"
   ]
  },
  {
   "cell_type": "markdown",
   "metadata": {},
   "source": [
    "## Checking columns with high cardinality "
   ]
  },
  {
   "cell_type": "code",
   "execution_count": 10,
   "metadata": {},
   "outputs": [
    {
     "data": {
      "text/plain": [
       "Country                      159\n",
       "DatabaseWorkedWith          2334\n",
       "DevType                     6155\n",
       "EdLevel                        9\n",
       "Employment                     3\n",
       "Ethnicity                    147\n",
       "Gender                         7\n",
       "Hobbyist                       2\n",
       "LanguageWorkedWith          9370\n",
       "MainBranch                     2\n",
       "MiscTechWorkedWith          1935\n",
       "NEWCollabToolsWorkedWith     999\n",
       "NEWEdImpt                      5\n",
       "NEWJobHunt                  2029\n",
       "NEWLearn                       4\n",
       "OpSys                          4\n",
       "OrgSize                        9\n",
       "UndergradMajor                12\n",
       "WebframeWorkedWith          2932\n",
       "dtype: int64"
      ]
     },
     "execution_count": 10,
     "metadata": {},
     "output_type": "execute_result"
    }
   ],
   "source": [
    "df.select_dtypes('object').nunique()"
   ]
  },
  {
   "cell_type": "markdown",
   "metadata": {},
   "source": [
    "### We can see the presence of high cardinality in some of the chosen columns but since they are important in predicting salary of respondents, I'll will be creating a function that will only take the top 10 values while grouping the remaining values as others"
   ]
  },
  {
   "cell_type": "markdown",
   "metadata": {},
   "source": [
    "## Working with Country"
   ]
  },
  {
   "cell_type": "code",
   "execution_count": 11,
   "metadata": {},
   "outputs": [
    {
     "data": {
      "text/plain": [
       "United States     8152\n",
       "India             2668\n",
       "United Kingdom    2588\n",
       "Germany           2311\n",
       "Canada            1345\n",
       "Brazil            1157\n",
       "France            1127\n",
       "Netherlands        810\n",
       "Poland             798\n",
       "Australia          772\n",
       "Name: Country, dtype: int64"
      ]
     },
     "execution_count": 11,
     "metadata": {},
     "output_type": "execute_result"
    }
   ],
   "source": [
    "top_countries = df['Country'].value_counts().head(10)\n",
    "top_countries"
   ]
  },
  {
   "cell_type": "code",
   "execution_count": 12,
   "metadata": {},
   "outputs": [],
   "source": [
    "def country_label(top):\n",
    "    country = top.Country\n",
    "    if country=='United States':\n",
    "        return 'United States'\n",
    "    elif country=='India':\n",
    "        return 'India'\n",
    "    elif country=='United Kingdom':\n",
    "        return 'United Kingdom'\n",
    "    elif country=='Germany':\n",
    "        return 'Germany'\n",
    "    elif country=='Canada':\n",
    "        return 'Canada'\n",
    "    elif country=='Brazil':\n",
    "        return 'Brazil'\n",
    "    elif country=='France':\n",
    "        return 'France'\n",
    "    elif country=='Netherlands':\n",
    "        return 'Netherlands'\n",
    "    elif country=='Poland':\n",
    "        return 'Poland'\n",
    "    elif country=='Australia':\n",
    "        return 'Australia'\n",
    "    else: \n",
    "        return 'Others'"
   ]
  },
  {
   "cell_type": "code",
   "execution_count": 13,
   "metadata": {},
   "outputs": [],
   "source": [
    "df['Countries'] = df.apply(country_label, axis=1)"
   ]
  },
  {
   "cell_type": "code",
   "execution_count": 14,
   "metadata": {},
   "outputs": [
    {
     "data": {
      "text/plain": [
       "11"
      ]
     },
     "execution_count": 14,
     "metadata": {},
     "output_type": "execute_result"
    }
   ],
   "source": [
    "df['Countries'].nunique()"
   ]
  },
  {
   "cell_type": "markdown",
   "metadata": {},
   "source": [
    "## Checking DatabaseWorkedWith"
   ]
  },
  {
   "cell_type": "markdown",
   "metadata": {},
   "source": [
    "### Checking the values in DatabaseWorkedWith"
   ]
  },
  {
   "cell_type": "code",
   "execution_count": 15,
   "metadata": {},
   "outputs": [
    {
     "data": {
      "text/plain": [
       "Microsoft SQL Server                                          2278\n",
       "MySQL                                                         1673\n",
       "PostgreSQL                                                    1310\n",
       "SQLite                                                         665\n",
       "Microsoft SQL Server;MySQL                                     647\n",
       "                                                              ... \n",
       "Couchbase;DynamoDB;MariaDB;MongoDB;MySQL;PostgreSQL;SQLite       1\n",
       "DynamoDB;Elasticsearch;Firebase;MariaDB;MongoDB                  1\n",
       "Couchbase;Microsoft SQL Server;MongoDB;Oracle                    1\n",
       "DynamoDB;Firebase;Microsoft SQL Server;MySQL;Oracle              1\n",
       "Couchbase;MySQL;Oracle;PostgreSQL;SQLite                         1\n",
       "Name: DatabaseWorkedWith, Length: 2334, dtype: int64"
      ]
     },
     "execution_count": 15,
     "metadata": {},
     "output_type": "execute_result"
    }
   ],
   "source": [
    "df['DatabaseWorkedWith'].value_counts()"
   ]
  },
  {
   "cell_type": "markdown",
   "metadata": {},
   "source": [
    "### Splitting DatabaseWorkedWith column and selecting the first option only"
   ]
  },
  {
   "cell_type": "code",
   "execution_count": 16,
   "metadata": {},
   "outputs": [
    {
     "data": {
      "text/plain": [
       "14"
      ]
     },
     "execution_count": 16,
     "metadata": {},
     "output_type": "execute_result"
    }
   ],
   "source": [
    "df['DataBase']=df['DatabaseWorkedWith'].str.split(';', expand=True)[0]\n",
    "df['DataBase'].nunique()"
   ]
  },
  {
   "cell_type": "markdown",
   "metadata": {},
   "source": [
    "## Checking DevType"
   ]
  },
  {
   "cell_type": "markdown",
   "metadata": {},
   "source": [
    "### Checking the values in DevType"
   ]
  },
  {
   "cell_type": "code",
   "execution_count": 17,
   "metadata": {},
   "outputs": [
    {
     "data": {
      "text/plain": [
       "Developer, full-stack                                                                                           3162\n",
       "Developer, back-end                                                                                             2208\n",
       "Developer, back-end;Developer, front-end;Developer, full-stack                                                  1664\n",
       "Developer, back-end;Developer, full-stack                                                                       1135\n",
       "Developer, front-end                                                                                             906\n",
       "Developer, mobile                                                                                                839\n",
       "Developer, front-end;Developer, full-stack                                                                       655\n",
       "Developer, back-end;Developer, desktop or enterprise applications;Developer, front-end;Developer, full-stack     613\n",
       "Developer, back-end;Developer, desktop or enterprise applications                                                488\n",
       "Developer, back-end;Developer, front-end;Developer, full-stack;Developer, mobile                                 438\n",
       "Name: DevType, dtype: int64"
      ]
     },
     "execution_count": 17,
     "metadata": {},
     "output_type": "execute_result"
    }
   ],
   "source": [
    "df['DevType'].value_counts().head(10)"
   ]
  },
  {
   "cell_type": "code",
   "execution_count": 18,
   "metadata": {},
   "outputs": [
    {
     "data": {
      "text/plain": [
       "Developer, back-end                              13421\n",
       "Developer, full-stack                             4343\n",
       "Database administrator                            2654\n",
       "Data or business analyst                          2241\n",
       "Developer, front-end                              2237\n",
       "Academic researcher                               2153\n",
       "Designer                                          1813\n",
       "Developer, desktop or enterprise applications     1490\n",
       "Data scientist or machine learning specialist     1314\n",
       "Developer, mobile                                  932\n",
       "Name: Dev_Type, dtype: int64"
      ]
     },
     "execution_count": 18,
     "metadata": {},
     "output_type": "execute_result"
    }
   ],
   "source": [
    "df['Dev_Type'] = df['DevType'].str.split(';', expand=True)[0]\n",
    "df['Dev_Type'].value_counts().head(10)"
   ]
  },
  {
   "cell_type": "code",
   "execution_count": 19,
   "metadata": {},
   "outputs": [],
   "source": [
    "def devtype(top):\n",
    "    dev=top.Dev_Type\n",
    "    if dev=='Developer, back-end':\n",
    "        return 'Developer, back-end'\n",
    "    elif dev=='Developer, full-stack':\n",
    "        return 'Developer, full-stack'\n",
    "    elif dev=='Database administrator':\n",
    "        return 'Database administrator'\n",
    "    elif dev=='Data or business analyst':\n",
    "        return 'Data or business analyst'\n",
    "    elif dev=='Developer, front-end':\n",
    "        return 'Developer, front-end'\n",
    "    elif dev=='Academic researcher':\n",
    "        return 'Academic researcher'\n",
    "    elif dev=='Designer':\n",
    "        return 'Designer'\n",
    "    elif dev=='Developer, desktop or enterprise applications':\n",
    "        return 'Developer, desktop or enterprise applications'\n",
    "    elif dev=='Data scientist or machine learning specialist':\n",
    "        return 'Data scientist or machine learning specialist'\n",
    "    elif dev=='Developer, mobile':\n",
    "        return 'Developer, mobile'\n",
    "    else:\n",
    "        return 'others_devtype'"
   ]
  },
  {
   "cell_type": "code",
   "execution_count": 20,
   "metadata": {},
   "outputs": [],
   "source": [
    "df['new_dev_type'] = df.apply(devtype, axis=1)"
   ]
  },
  {
   "cell_type": "code",
   "execution_count": 21,
   "metadata": {},
   "outputs": [
    {
     "data": {
      "text/plain": [
       "11"
      ]
     },
     "execution_count": 21,
     "metadata": {},
     "output_type": "execute_result"
    }
   ],
   "source": [
    "df['new_dev_type'].nunique()"
   ]
  },
  {
   "cell_type": "markdown",
   "metadata": {},
   "source": [
    "## Checking EdLevel"
   ]
  },
  {
   "cell_type": "code",
   "execution_count": 22,
   "metadata": {},
   "outputs": [
    {
     "data": {
      "text/plain": [
       "Bachelor’s degree (B.A., B.S., B.Eng., etc.)                                          16874\n",
       "Master’s degree (M.A., M.S., M.Eng., MBA, etc.)                                        8668\n",
       "Some college/university study without earning a degree                                 4086\n",
       "Secondary school (e.g. American high school, German Realschule or Gymnasium, etc.)     1466\n",
       "Associate degree (A.A., A.S., etc.)                                                    1168\n",
       "Other doctoral degree (Ph.D., Ed.D., etc.)                                             1142\n",
       "Professional degree (JD, MD, etc.)                                                      477\n",
       "I never completed any formal education                                                  154\n",
       "Primary/elementary school                                                               153\n",
       "Name: EdLevel, dtype: int64"
      ]
     },
     "execution_count": 22,
     "metadata": {},
     "output_type": "execute_result"
    }
   ],
   "source": [
    "df['EdLevel'].value_counts()"
   ]
  },
  {
   "cell_type": "markdown",
   "metadata": {},
   "source": [
    "#### This column looks okay and does not need cleaning"
   ]
  },
  {
   "cell_type": "markdown",
   "metadata": {},
   "source": [
    "### Checking Employment"
   ]
  },
  {
   "cell_type": "code",
   "execution_count": 23,
   "metadata": {},
   "outputs": [
    {
     "data": {
      "text/plain": [
       "Employed full-time                                      30608\n",
       "Independent contractor, freelancer, or self-employed     3057\n",
       "Employed part-time                                       1052\n",
       "Name: Employment, dtype: int64"
      ]
     },
     "execution_count": 23,
     "metadata": {},
     "output_type": "execute_result"
    }
   ],
   "source": [
    "df['Employment'].value_counts()"
   ]
  },
  {
   "cell_type": "markdown",
   "metadata": {},
   "source": [
    "#### This column looks okay and does not need cleaning"
   ]
  },
  {
   "cell_type": "markdown",
   "metadata": {},
   "source": [
    "### Checking Ethnicity "
   ]
  },
  {
   "cell_type": "code",
   "execution_count": 24,
   "metadata": {},
   "outputs": [
    {
     "data": {
      "text/plain": [
       "White or of European descent                                                                                     20924\n",
       "South Asian                                                                                                       2256\n",
       "Hispanic or Latino/a/x                                                                                            1590\n",
       "Middle Eastern                                                                                                     933\n",
       "East Asian                                                                                                         862\n",
       "                                                                                                                 ...  \n",
       "Black or of African descent;East Asian;Hispanic or Latino/a/x;Middle Eastern;Biracial;South Asian;Multiracial        1\n",
       "Black or of African descent;Multiracial;Southeast Asian                                                              1\n",
       "East Asian;Middle Eastern;South Asian                                                                                1\n",
       "Black or of African descent;East Asian;Hispanic or Latino/a/x;White or of European descent;Multiracial               1\n",
       "East Asian;White or of European descent;Biracial;Southeast Asian                                                     1\n",
       "Name: Ethnicity, Length: 147, dtype: int64"
      ]
     },
     "execution_count": 24,
     "metadata": {},
     "output_type": "execute_result"
    }
   ],
   "source": [
    "df['Ethnicity'].value_counts()"
   ]
  },
  {
   "cell_type": "code",
   "execution_count": 25,
   "metadata": {},
   "outputs": [],
   "source": [
    "ethnicity = df['Ethnicity'].str.split(';', expand=True)[0]"
   ]
  },
  {
   "cell_type": "code",
   "execution_count": 26,
   "metadata": {},
   "outputs": [
    {
     "data": {
      "text/plain": [
       "White or of European descent                                                        21145\n",
       "Hispanic or Latino/a/x                                                               2374\n",
       "South Asian                                                                          2305\n",
       "Middle Eastern                                                                       1229\n",
       "East Asian                                                                           1071\n",
       "Black or of African descent                                                           907\n",
       "Southeast Asian                                                                       792\n",
       "Multiracial                                                                           186\n",
       "Biracial                                                                              107\n",
       "Indigenous (such as Native American, Pacific Islander, or Indigenous Australian)       42\n",
       "Name: ethnicity, dtype: int64"
      ]
     },
     "execution_count": 26,
     "metadata": {},
     "output_type": "execute_result"
    }
   ],
   "source": [
    "df['ethnicity']=ethnicity\n",
    "df['ethnicity'].value_counts()"
   ]
  },
  {
   "cell_type": "markdown",
   "metadata": {},
   "source": [
    "### Checking Gender"
   ]
  },
  {
   "cell_type": "code",
   "execution_count": 27,
   "metadata": {},
   "outputs": [
    {
     "data": {
      "text/plain": [
       "Man                                                            29437\n",
       "Woman                                                           2274\n",
       "Non-binary, genderqueer, or gender non-conforming                244\n",
       "Man;Non-binary, genderqueer, or gender non-conforming             80\n",
       "Woman;Non-binary, genderqueer, or gender non-conforming           55\n",
       "Woman;Man                                                         27\n",
       "Woman;Man;Non-binary, genderqueer, or gender non-conforming       10\n",
       "Name: Gender, dtype: int64"
      ]
     },
     "execution_count": 27,
     "metadata": {},
     "output_type": "execute_result"
    }
   ],
   "source": [
    "df['Gender'].value_counts()"
   ]
  },
  {
   "cell_type": "code",
   "execution_count": 28,
   "metadata": {},
   "outputs": [
    {
     "data": {
      "text/plain": [
       "Man                                                  29517\n",
       "Woman                                                 2366\n",
       "Non-binary, genderqueer, or gender non-conforming      244\n",
       "Name: Gender_new, dtype: int64"
      ]
     },
     "execution_count": 28,
     "metadata": {},
     "output_type": "execute_result"
    }
   ],
   "source": [
    "df['Gender_new'] = df['Gender'].str.split(';', expand=True)[0]\n",
    "df['Gender_new'].value_counts()"
   ]
  },
  {
   "cell_type": "markdown",
   "metadata": {},
   "source": [
    "### Checking Hobbyist"
   ]
  },
  {
   "cell_type": "code",
   "execution_count": 29,
   "metadata": {},
   "outputs": [
    {
     "data": {
      "text/plain": [
       "Yes    26686\n",
       "No      8070\n",
       "Name: Hobbyist, dtype: int64"
      ]
     },
     "execution_count": 29,
     "metadata": {},
     "output_type": "execute_result"
    }
   ],
   "source": [
    "df['Hobbyist'].value_counts()"
   ]
  },
  {
   "cell_type": "markdown",
   "metadata": {},
   "source": [
    "### Checking LanguageWorkedWith"
   ]
  },
  {
   "cell_type": "code",
   "execution_count": 30,
   "metadata": {},
   "outputs": [
    {
     "data": {
      "text/plain": [
       "HTML/CSS;JavaScript;PHP;SQL                                                                  621\n",
       "C#;HTML/CSS;JavaScript;SQL                                                                   610\n",
       "C#;HTML/CSS;JavaScript;SQL;TypeScript                                                        577\n",
       "HTML/CSS;JavaScript;TypeScript                                                               492\n",
       "HTML/CSS;JavaScript                                                                          460\n",
       "                                                                                            ... \n",
       "Go;HTML/CSS;JavaScript;Objective-C;PHP;Python;SQL;Swift                                        1\n",
       "Bash/Shell/PowerShell;C#;Go;HTML/CSS;JavaScript;PHP;Python;TypeScript                          1\n",
       "Assembly;Bash/Shell/PowerShell;C;Go;Haskell;HTML/CSS;Java;JavaScript;Kotlin;Ruby;Rust;SQL      1\n",
       "Bash/Shell/PowerShell;C;C#;HTML/CSS;SQL;VBA                                                    1\n",
       "Bash/Shell/PowerShell;C#;C++;Java;SQL                                                          1\n",
       "Name: LanguageWorkedWith, Length: 9370, dtype: int64"
      ]
     },
     "execution_count": 30,
     "metadata": {},
     "output_type": "execute_result"
    }
   ],
   "source": [
    "df['LanguageWorkedWith'].value_counts()"
   ]
  },
  {
   "cell_type": "code",
   "execution_count": 31,
   "metadata": {},
   "outputs": [
    {
     "data": {
      "text/plain": [
       "HTML/CSS                 7554\n",
       "JavaScript               5550\n",
       "C#                       3917\n",
       "Java                     3388\n",
       "C                        2421\n",
       "C++                      2093\n",
       "Python                   1431\n",
       "Go                       1185\n",
       "Bash/Shell/PowerShell    1019\n",
       "SQL                       836\n",
       "Kotlin                    424\n",
       "Dart                      378\n",
       "PHP                       372\n",
       "R                         227\n",
       "TypeScript                185\n",
       "Ruby                      164\n",
       "Haskell                   142\n",
       "Swift                     139\n",
       "Objective-C               124\n",
       "Scala                     105\n",
       "Rust                       87\n",
       "Perl                       83\n",
       "VBA                        68\n",
       "Julia                      39\n",
       "Name: lang_worked_with, dtype: int64"
      ]
     },
     "execution_count": 31,
     "metadata": {},
     "output_type": "execute_result"
    }
   ],
   "source": [
    "df['lang_worked_with'] = df['LanguageWorkedWith'].str.split(';', expand=True)[1]\n",
    "df['lang_worked_with'].value_counts()"
   ]
  },
  {
   "cell_type": "code",
   "execution_count": 32,
   "metadata": {},
   "outputs": [],
   "source": [
    "def langwith(top):\n",
    "    language = top.lang_worked_with\n",
    "    if language=='HTML/CSS':\n",
    "        return 'HTML/CSS'\n",
    "    elif language=='JavaScript':\n",
    "        return 'JavaScript'\n",
    "    elif language=='C#':\n",
    "        return 'C#'\n",
    "    elif language=='Java':\n",
    "        return 'Java'\n",
    "    elif language=='C':\n",
    "        return 'C'\n",
    "    elif language=='C++':\n",
    "        return 'C++'\n",
    "    elif language=='Python':\n",
    "        return 'Python'\n",
    "    elif language=='Go':\n",
    "        return 'Go'\n",
    "    elif language=='Bash/Shell/PowerShell':\n",
    "        return 'Bash/Shell/PowerShell'\n",
    "    elif language=='SQL':\n",
    "        return 'SQL'\n",
    "    else:\n",
    "        return 'other language'"
   ]
  },
  {
   "cell_type": "code",
   "execution_count": 33,
   "metadata": {},
   "outputs": [],
   "source": [
    "df['LangWorkedWith'] = df.apply(langwith, axis=1)"
   ]
  },
  {
   "cell_type": "code",
   "execution_count": 34,
   "metadata": {},
   "outputs": [
    {
     "data": {
      "text/html": [
       "<div>\n",
       "<style scoped>\n",
       "    .dataframe tbody tr th:only-of-type {\n",
       "        vertical-align: middle;\n",
       "    }\n",
       "\n",
       "    .dataframe tbody tr th {\n",
       "        vertical-align: top;\n",
       "    }\n",
       "\n",
       "    .dataframe thead th {\n",
       "        text-align: right;\n",
       "    }\n",
       "</style>\n",
       "<table border=\"1\" class=\"dataframe\">\n",
       "  <thead>\n",
       "    <tr style=\"text-align: right;\">\n",
       "      <th></th>\n",
       "      <th>Age</th>\n",
       "      <th>Age1stCode</th>\n",
       "      <th>ConvertedComp</th>\n",
       "      <th>Country</th>\n",
       "      <th>DatabaseWorkedWith</th>\n",
       "      <th>DevType</th>\n",
       "      <th>EdLevel</th>\n",
       "      <th>Employment</th>\n",
       "      <th>Ethnicity</th>\n",
       "      <th>Gender</th>\n",
       "      <th>...</th>\n",
       "      <th>YearsCode</th>\n",
       "      <th>YearsCodePro</th>\n",
       "      <th>Countries</th>\n",
       "      <th>DataBase</th>\n",
       "      <th>Dev_Type</th>\n",
       "      <th>new_dev_type</th>\n",
       "      <th>ethnicity</th>\n",
       "      <th>Gender_new</th>\n",
       "      <th>lang_worked_with</th>\n",
       "      <th>LangWorkedWith</th>\n",
       "    </tr>\n",
       "  </thead>\n",
       "  <tbody>\n",
       "    <tr>\n",
       "      <th>7</th>\n",
       "      <td>36.0</td>\n",
       "      <td>12.0</td>\n",
       "      <td>116000.0</td>\n",
       "      <td>United States</td>\n",
       "      <td>MariaDB;MySQL;Redis</td>\n",
       "      <td>Developer, back-end;Developer, desktop or ente...</td>\n",
       "      <td>Bachelor’s degree (B.A., B.S., B.Eng., etc.)</td>\n",
       "      <td>Employed full-time</td>\n",
       "      <td>White or of European descent</td>\n",
       "      <td>Man</td>\n",
       "      <td>...</td>\n",
       "      <td>17.0</td>\n",
       "      <td>13.0</td>\n",
       "      <td>United States</td>\n",
       "      <td>MariaDB</td>\n",
       "      <td>Developer, back-end</td>\n",
       "      <td>Developer, back-end</td>\n",
       "      <td>White or of European descent</td>\n",
       "      <td>Man</td>\n",
       "      <td>SQL</td>\n",
       "      <td>SQL</td>\n",
       "    </tr>\n",
       "    <tr>\n",
       "      <th>9</th>\n",
       "      <td>22.0</td>\n",
       "      <td>14.0</td>\n",
       "      <td>32315.0</td>\n",
       "      <td>United Kingdom</td>\n",
       "      <td>Microsoft SQL Server</td>\n",
       "      <td>Database administrator;Developer, full-stack;D...</td>\n",
       "      <td>Master’s degree (M.A., M.S., M.Eng., MBA, etc.)</td>\n",
       "      <td>Employed full-time</td>\n",
       "      <td>White or of European descent</td>\n",
       "      <td>Man</td>\n",
       "      <td>...</td>\n",
       "      <td>8.0</td>\n",
       "      <td>4.0</td>\n",
       "      <td>United Kingdom</td>\n",
       "      <td>Microsoft SQL Server</td>\n",
       "      <td>Database administrator</td>\n",
       "      <td>Database administrator</td>\n",
       "      <td>White or of European descent</td>\n",
       "      <td>Man</td>\n",
       "      <td>Java</td>\n",
       "      <td>Java</td>\n",
       "    </tr>\n",
       "    <tr>\n",
       "      <th>10</th>\n",
       "      <td>23.0</td>\n",
       "      <td>13.0</td>\n",
       "      <td>40070.0</td>\n",
       "      <td>United Kingdom</td>\n",
       "      <td>Firebase;MongoDB;PostgreSQL;SQLite</td>\n",
       "      <td>Developer, back-end;Developer, desktop or ente...</td>\n",
       "      <td>Bachelor’s degree (B.A., B.S., B.Eng., etc.)</td>\n",
       "      <td>Employed full-time</td>\n",
       "      <td>White or of European descent</td>\n",
       "      <td>Man</td>\n",
       "      <td>...</td>\n",
       "      <td>10.0</td>\n",
       "      <td>2.0</td>\n",
       "      <td>United Kingdom</td>\n",
       "      <td>Firebase</td>\n",
       "      <td>Developer, back-end</td>\n",
       "      <td>Developer, back-end</td>\n",
       "      <td>White or of European descent</td>\n",
       "      <td>Man</td>\n",
       "      <td>JavaScript</td>\n",
       "      <td>JavaScript</td>\n",
       "    </tr>\n",
       "    <tr>\n",
       "      <th>11</th>\n",
       "      <td>49.0</td>\n",
       "      <td>42.0</td>\n",
       "      <td>14268.0</td>\n",
       "      <td>Spain</td>\n",
       "      <td>NaN</td>\n",
       "      <td>Designer;Developer, front-end</td>\n",
       "      <td>Some college/university study without earning ...</td>\n",
       "      <td>Employed full-time</td>\n",
       "      <td>White or of European descent</td>\n",
       "      <td>Man</td>\n",
       "      <td>...</td>\n",
       "      <td>7.0</td>\n",
       "      <td>7.0</td>\n",
       "      <td>Others</td>\n",
       "      <td>NaN</td>\n",
       "      <td>Designer</td>\n",
       "      <td>Designer</td>\n",
       "      <td>White or of European descent</td>\n",
       "      <td>Man</td>\n",
       "      <td>JavaScript</td>\n",
       "      <td>JavaScript</td>\n",
       "    </tr>\n",
       "    <tr>\n",
       "      <th>12</th>\n",
       "      <td>53.0</td>\n",
       "      <td>14.0</td>\n",
       "      <td>38916.0</td>\n",
       "      <td>Netherlands</td>\n",
       "      <td>NaN</td>\n",
       "      <td>Designer;Developer, back-end</td>\n",
       "      <td>Secondary school (e.g. American high school, G...</td>\n",
       "      <td>Employed full-time</td>\n",
       "      <td>White or of European descent</td>\n",
       "      <td>Man</td>\n",
       "      <td>...</td>\n",
       "      <td>35.0</td>\n",
       "      <td>20.0</td>\n",
       "      <td>Netherlands</td>\n",
       "      <td>NaN</td>\n",
       "      <td>Designer</td>\n",
       "      <td>Designer</td>\n",
       "      <td>White or of European descent</td>\n",
       "      <td>Man</td>\n",
       "      <td>JavaScript</td>\n",
       "      <td>JavaScript</td>\n",
       "    </tr>\n",
       "  </tbody>\n",
       "</table>\n",
       "<p>5 rows × 33 columns</p>\n",
       "</div>"
      ],
      "text/plain": [
       "     Age  Age1stCode  ConvertedComp         Country  \\\n",
       "7   36.0        12.0       116000.0   United States   \n",
       "9   22.0        14.0        32315.0  United Kingdom   \n",
       "10  23.0        13.0        40070.0  United Kingdom   \n",
       "11  49.0        42.0        14268.0           Spain   \n",
       "12  53.0        14.0        38916.0     Netherlands   \n",
       "\n",
       "                    DatabaseWorkedWith  \\\n",
       "7                  MariaDB;MySQL;Redis   \n",
       "9                 Microsoft SQL Server   \n",
       "10  Firebase;MongoDB;PostgreSQL;SQLite   \n",
       "11                                 NaN   \n",
       "12                                 NaN   \n",
       "\n",
       "                                              DevType  \\\n",
       "7   Developer, back-end;Developer, desktop or ente...   \n",
       "9   Database administrator;Developer, full-stack;D...   \n",
       "10  Developer, back-end;Developer, desktop or ente...   \n",
       "11                      Designer;Developer, front-end   \n",
       "12                       Designer;Developer, back-end   \n",
       "\n",
       "                                              EdLevel          Employment  \\\n",
       "7        Bachelor’s degree (B.A., B.S., B.Eng., etc.)  Employed full-time   \n",
       "9     Master’s degree (M.A., M.S., M.Eng., MBA, etc.)  Employed full-time   \n",
       "10       Bachelor’s degree (B.A., B.S., B.Eng., etc.)  Employed full-time   \n",
       "11  Some college/university study without earning ...  Employed full-time   \n",
       "12  Secondary school (e.g. American high school, G...  Employed full-time   \n",
       "\n",
       "                       Ethnicity Gender  ... YearsCode YearsCodePro  \\\n",
       "7   White or of European descent    Man  ...      17.0         13.0   \n",
       "9   White or of European descent    Man  ...       8.0          4.0   \n",
       "10  White or of European descent    Man  ...      10.0          2.0   \n",
       "11  White or of European descent    Man  ...       7.0          7.0   \n",
       "12  White or of European descent    Man  ...      35.0         20.0   \n",
       "\n",
       "         Countries              DataBase                Dev_Type  \\\n",
       "7    United States               MariaDB     Developer, back-end   \n",
       "9   United Kingdom  Microsoft SQL Server  Database administrator   \n",
       "10  United Kingdom              Firebase     Developer, back-end   \n",
       "11          Others                   NaN                Designer   \n",
       "12     Netherlands                   NaN                Designer   \n",
       "\n",
       "              new_dev_type                     ethnicity Gender_new  \\\n",
       "7      Developer, back-end  White or of European descent        Man   \n",
       "9   Database administrator  White or of European descent        Man   \n",
       "10     Developer, back-end  White or of European descent        Man   \n",
       "11                Designer  White or of European descent        Man   \n",
       "12                Designer  White or of European descent        Man   \n",
       "\n",
       "   lang_worked_with LangWorkedWith  \n",
       "7               SQL            SQL  \n",
       "9              Java           Java  \n",
       "10       JavaScript     JavaScript  \n",
       "11       JavaScript     JavaScript  \n",
       "12       JavaScript     JavaScript  \n",
       "\n",
       "[5 rows x 33 columns]"
      ]
     },
     "execution_count": 34,
     "metadata": {},
     "output_type": "execute_result"
    }
   ],
   "source": [
    "df.head()"
   ]
  },
  {
   "cell_type": "markdown",
   "metadata": {},
   "source": [
    "## Checking MiscTechWorkedWith"
   ]
  },
  {
   "cell_type": "code",
   "execution_count": 35,
   "metadata": {},
   "outputs": [
    {
     "data": {
      "text/plain": [
       "Node.js                                                                                           4398\n",
       ".NET;.NET Core                                                                                    2244\n",
       ".NET                                                                                              1555\n",
       ".NET;.NET Core;Node.js                                                                            1148\n",
       "Pandas                                                                                             786\n",
       "                                                                                                  ... \n",
       "Ansible;Apache Spark;Chef;Hadoop;Keras;Node.js;Pandas;Puppet;TensorFlow;Teraform;Torch/PyTorch       1\n",
       ".NET Core;Flutter;Pandas;TensorFlow                                                                  1\n",
       "Apache Spark;Chef;Cordova;Hadoop;Keras;Node.js;Pandas;Torch/PyTorch                                  1\n",
       ".NET Core;Cordova;Node.js;React Native;Xamarin                                                       1\n",
       ".NET;.NET Core;Hadoop;Keras;Pandas;TensorFlow;Torch/PyTorch                                          1\n",
       "Name: MiscTechWorkedWith, Length: 1935, dtype: int64"
      ]
     },
     "execution_count": 35,
     "metadata": {},
     "output_type": "execute_result"
    }
   ],
   "source": [
    "df['MiscTechWorkedWith'].value_counts()"
   ]
  },
  {
   "cell_type": "code",
   "execution_count": 36,
   "metadata": {},
   "outputs": [
    {
     "data": {
      "text/plain": [
       ".NET             9014\n",
       "Node.js          6525\n",
       "Ansible          1796\n",
       ".NET Core        1258\n",
       "Pandas           1078\n",
       "Apache Spark      882\n",
       "Cordova           856\n",
       "Flutter           839\n",
       "Keras             638\n",
       "React Native      406\n",
       "Hadoop            283\n",
       "Teraform          274\n",
       "Unity 3D          254\n",
       "Chef              209\n",
       "TensorFlow        187\n",
       "Puppet            116\n",
       "Xamarin            37\n",
       "Unreal Engine      36\n",
       "Torch/PyTorch      35\n",
       "Name: TechWorkedWith, dtype: int64"
      ]
     },
     "execution_count": 36,
     "metadata": {},
     "output_type": "execute_result"
    }
   ],
   "source": [
    "MiscTechWorkedWith = df['MiscTechWorkedWith'].str.split(';', expand=True)[0]\n",
    "df['TechWorkedWith'] = MiscTechWorkedWith\n",
    "df['TechWorkedWith'].value_counts()"
   ]
  },
  {
   "cell_type": "code",
   "execution_count": 37,
   "metadata": {},
   "outputs": [],
   "source": [
    "def misctech(top):\n",
    "    tech = top.TechWorkedWith\n",
    "    if tech=='.NET':\n",
    "        return '.NET'\n",
    "    elif tech=='Node.js':\n",
    "        return 'Node js'\n",
    "    elif tech=='Ansible':\n",
    "        return 'Ansible'\n",
    "    elif tech=='.NET Core':\n",
    "        return '.NET Core'\n",
    "    elif tech=='Pandas':\n",
    "        return 'Pandas'\n",
    "    else:\n",
    "        return 'other tech'"
   ]
  },
  {
   "cell_type": "code",
   "execution_count": 38,
   "metadata": {},
   "outputs": [],
   "source": [
    "df['Tech_Worked_With'] = df.apply(misctech, axis=1)"
   ]
  },
  {
   "cell_type": "markdown",
   "metadata": {},
   "source": [
    "## Checking 'NEWCollabToolsWorkedWith'"
   ]
  },
  {
   "cell_type": "code",
   "execution_count": 39,
   "metadata": {},
   "outputs": [
    {
     "data": {
      "text/plain": [
       "Github                                                                                                               1251\n",
       "Confluence;Jira;Github;Slack;Google Suite (Docs, Meet, etc)                                                          1046\n",
       "Confluence;Jira;Github;Slack                                                                                          775\n",
       "Github;Gitlab                                                                                                         624\n",
       "Confluence;Jira;Github;Gitlab;Slack;Google Suite (Docs, Meet, etc)                                                    602\n",
       "                                                                                                                     ... \n",
       "Jira;Github;Gitlab;Facebook Workplace;Slack;Google Suite (Docs, Meet, etc);Stack Overflow for Teams                     1\n",
       "Confluence;Gitlab;Facebook Workplace;Slack                                                                              1\n",
       "Jira;Github;Gitlab;Slack;Microsoft Teams;Microsoft Azure;Trello;Stack Overflow for Teams                                1\n",
       "Github;Facebook Workplace;Microsoft Teams;Microsoft Azure;Google Suite (Docs, Meet, etc);Stack Overflow for Teams       1\n",
       "Confluence;Jira;Github;Facebook Workplace;Slack;Microsoft Azure;Stack Overflow for Teams                                1\n",
       "Name: NEWCollabToolsWorkedWith, Length: 999, dtype: int64"
      ]
     },
     "execution_count": 39,
     "metadata": {},
     "output_type": "execute_result"
    }
   ],
   "source": [
    "df['NEWCollabToolsWorkedWith'].value_counts()"
   ]
  },
  {
   "cell_type": "code",
   "execution_count": 40,
   "metadata": {},
   "outputs": [
    {
     "data": {
      "text/plain": [
       "Confluence                        12872\n",
       "Github                            10262\n",
       "Jira                               6406\n",
       "Gitlab                              849\n",
       "Microsoft Teams                     651\n",
       "Slack                               574\n",
       "Google Suite (Docs, Meet, etc)      206\n",
       "Trello                              169\n",
       "Microsoft Azure                     137\n",
       "Facebook Workplace                   43\n",
       "Stack Overflow for Teams             18\n",
       "Name: collabtools, dtype: int64"
      ]
     },
     "execution_count": 40,
     "metadata": {},
     "output_type": "execute_result"
    }
   ],
   "source": [
    "df['collabtools'] = df['NEWCollabToolsWorkedWith'].str.split(';', expand=True)[0]\n",
    "df['collabtools'].value_counts()"
   ]
  },
  {
   "cell_type": "code",
   "execution_count": 41,
   "metadata": {},
   "outputs": [],
   "source": [
    "def collab(top):\n",
    "    tools = top.collabtools\n",
    "    if tools=='Confluence':\n",
    "        return 'Confluence'\n",
    "    elif tools=='Github':\n",
    "        return 'Github'\n",
    "    elif tools=='Jira':\n",
    "        return 'Jira'\n",
    "    else:\n",
    "        return 'other collab tools'"
   ]
  },
  {
   "cell_type": "code",
   "execution_count": 42,
   "metadata": {},
   "outputs": [],
   "source": [
    "df['CollabToolsWorkedWith'] = df.apply(collab, axis=1)"
   ]
  },
  {
   "cell_type": "markdown",
   "metadata": {},
   "source": [
    "## Checking NEWEdImpt"
   ]
  },
  {
   "cell_type": "code",
   "execution_count": 43,
   "metadata": {},
   "outputs": [
    {
     "data": {
      "text/plain": [
       "Fairly important                      9153\n",
       "Somewhat important                    8493\n",
       "Very important                        7885\n",
       "Not at all important/not necessary    5651\n",
       "Critically important                  3075\n",
       "Name: NEWEdImpt, dtype: int64"
      ]
     },
     "execution_count": 43,
     "metadata": {},
     "output_type": "execute_result"
    }
   ],
   "source": [
    "df['NEWEdImpt'].value_counts()"
   ]
  },
  {
   "cell_type": "markdown",
   "metadata": {},
   "source": [
    "## Checking 'OpSys'"
   ]
  },
  {
   "cell_type": "code",
   "execution_count": 44,
   "metadata": {},
   "outputs": [
    {
     "data": {
      "text/plain": [
       "Windows        14870\n",
       "MacOS           9797\n",
       "Linux-based     8547\n",
       "BSD               21\n",
       "Name: OpSys, dtype: int64"
      ]
     },
     "execution_count": 44,
     "metadata": {},
     "output_type": "execute_result"
    }
   ],
   "source": [
    "df['OpSys'].value_counts()"
   ]
  },
  {
   "cell_type": "markdown",
   "metadata": {},
   "source": [
    "## Checking OrgSize"
   ]
  },
  {
   "cell_type": "code",
   "execution_count": 45,
   "metadata": {},
   "outputs": [
    {
     "data": {
      "text/plain": [
       "20 to 99 employees                                    7580\n",
       "100 to 499 employees                                  6623\n",
       "10,000 or more employees                              4823\n",
       "1,000 to 4,999 employees                              3865\n",
       "2 to 9 employees                                      3215\n",
       "10 to 19 employees                                    3150\n",
       "500 to 999 employees                                  2288\n",
       "5,000 to 9,999 employees                              1410\n",
       "Just me - I am a freelancer, sole proprietor, etc.    1261\n",
       "Name: OrgSize, dtype: int64"
      ]
     },
     "execution_count": 45,
     "metadata": {},
     "output_type": "execute_result"
    }
   ],
   "source": [
    "df['OrgSize'].value_counts()"
   ]
  },
  {
   "cell_type": "markdown",
   "metadata": {},
   "source": [
    "## Checking 'UndergradMajor'"
   ]
  },
  {
   "cell_type": "code",
   "execution_count": 46,
   "metadata": {},
   "outputs": [
    {
     "data": {
      "text/plain": [
       "Computer science, computer engineering, or software engineering                   20081\n",
       "Another engineering discipline (such as civil, electrical, mechanical, etc.)       2931\n",
       "Information systems, information technology, or system administration              2545\n",
       "A natural science (such as biology, chemistry, physics, etc.)                      1485\n",
       "Mathematics or statistics                                                          1199\n",
       "Web development or web design                                                       956\n",
       "A business discipline (such as accounting, finance, marketing, etc.)                825\n",
       "A humanities discipline (such as literature, history, philosophy, etc.)             719\n",
       "A social science (such as anthropology, psychology, political science, etc.)        620\n",
       "Fine arts or performing arts (such as graphic design, music, studio art, etc.)      508\n",
       "I never declared a major                                                            232\n",
       "A health science (such as nursing, pharmacy, radiology, etc.)                       127\n",
       "Name: UndergradMajor, dtype: int64"
      ]
     },
     "execution_count": 46,
     "metadata": {},
     "output_type": "execute_result"
    }
   ],
   "source": [
    "df['UndergradMajor'].value_counts()"
   ]
  },
  {
   "cell_type": "markdown",
   "metadata": {},
   "source": [
    "## Checking 'WebframeWorkedWith'"
   ]
  },
  {
   "cell_type": "code",
   "execution_count": 47,
   "metadata": {},
   "outputs": [
    {
     "data": {
      "text/plain": [
       "React.js                                                                               1242\n",
       "jQuery                                                                                  987\n",
       "Spring                                                                                  895\n",
       "Flask                                                                                   611\n",
       "ASP.NET;ASP.NET Core;jQuery                                                             572\n",
       "                                                                                       ... \n",
       "Angular;Angular.js;Express;Flask;jQuery                                                   1\n",
       "Angular;ASP.NET;ASP.NET Core;Django;Flask;jQuery;Laravel;Vue.js                           1\n",
       "Angular;Angular.js;ASP.NET;ASP.NET Core;Django;Express;Flask;jQuery;React.js;Spring       1\n",
       "Django;Express;Symfony                                                                    1\n",
       "Angular.js;Drupal;Express;jQuery;Spring;Symfony                                           1\n",
       "Name: WebframeWorkedWith, Length: 2932, dtype: int64"
      ]
     },
     "execution_count": 47,
     "metadata": {},
     "output_type": "execute_result"
    }
   ],
   "source": [
    "df['WebframeWorkedWith'].value_counts()"
   ]
  },
  {
   "cell_type": "code",
   "execution_count": 48,
   "metadata": {},
   "outputs": [
    {
     "data": {
      "text/plain": [
       "Angular          6835\n",
       "ASP.NET          3542\n",
       "jQuery           2807\n",
       "Express          2263\n",
       "Django           2102\n",
       "React.js         1863\n",
       "Angular.js       1845\n",
       "Flask            1282\n",
       "ASP.NET Core      976\n",
       "Spring            967\n",
       "Laravel           409\n",
       "Drupal            336\n",
       "Ruby on Rails     325\n",
       "Vue.js            276\n",
       "Gatsby            237\n",
       "Symfony            94\n",
       "Name: webframe, dtype: int64"
      ]
     },
     "execution_count": 48,
     "metadata": {},
     "output_type": "execute_result"
    }
   ],
   "source": [
    "df['webframe'] = df['WebframeWorkedWith'].str.split(';', expand=True)[0]\n",
    "df['webframe'].value_counts()"
   ]
  },
  {
   "cell_type": "markdown",
   "metadata": {},
   "source": [
    "## Removing outliers from the numeric columns"
   ]
  },
  {
   "cell_type": "code",
   "execution_count": 49,
   "metadata": {},
   "outputs": [
    {
     "data": {
      "text/html": [
       "<div>\n",
       "<style scoped>\n",
       "    .dataframe tbody tr th:only-of-type {\n",
       "        vertical-align: middle;\n",
       "    }\n",
       "\n",
       "    .dataframe tbody tr th {\n",
       "        vertical-align: top;\n",
       "    }\n",
       "\n",
       "    .dataframe thead th {\n",
       "        text-align: right;\n",
       "    }\n",
       "</style>\n",
       "<table border=\"1\" class=\"dataframe\">\n",
       "  <thead>\n",
       "    <tr style=\"text-align: right;\">\n",
       "      <th></th>\n",
       "      <th>Age</th>\n",
       "      <th>Age1stCode</th>\n",
       "      <th>ConvertedComp</th>\n",
       "      <th>WorkWeekHrs</th>\n",
       "      <th>YearsCode</th>\n",
       "      <th>YearsCodePro</th>\n",
       "    </tr>\n",
       "  </thead>\n",
       "  <tbody>\n",
       "    <tr>\n",
       "      <th>count</th>\n",
       "      <td>30596.000000</td>\n",
       "      <td>34492.000000</td>\n",
       "      <td>3.475600e+04</td>\n",
       "      <td>33658.000000</td>\n",
       "      <td>34496.000000</td>\n",
       "      <td>33144.000000</td>\n",
       "    </tr>\n",
       "    <tr>\n",
       "      <th>mean</th>\n",
       "      <td>32.164388</td>\n",
       "      <td>15.176128</td>\n",
       "      <td>1.037561e+05</td>\n",
       "      <td>40.761557</td>\n",
       "      <td>14.282323</td>\n",
       "      <td>8.834932</td>\n",
       "    </tr>\n",
       "    <tr>\n",
       "      <th>std</th>\n",
       "      <td>8.616750</td>\n",
       "      <td>4.722152</td>\n",
       "      <td>2.268853e+05</td>\n",
       "      <td>17.887200</td>\n",
       "      <td>9.310310</td>\n",
       "      <td>7.575306</td>\n",
       "    </tr>\n",
       "    <tr>\n",
       "      <th>min</th>\n",
       "      <td>1.000000</td>\n",
       "      <td>5.000000</td>\n",
       "      <td>0.000000e+00</td>\n",
       "      <td>1.000000</td>\n",
       "      <td>1.000000</td>\n",
       "      <td>1.000000</td>\n",
       "    </tr>\n",
       "    <tr>\n",
       "      <th>25%</th>\n",
       "      <td>26.000000</td>\n",
       "      <td>12.000000</td>\n",
       "      <td>2.464800e+04</td>\n",
       "      <td>40.000000</td>\n",
       "      <td>7.000000</td>\n",
       "      <td>3.000000</td>\n",
       "    </tr>\n",
       "    <tr>\n",
       "      <th>50%</th>\n",
       "      <td>30.000000</td>\n",
       "      <td>15.000000</td>\n",
       "      <td>5.404900e+04</td>\n",
       "      <td>40.000000</td>\n",
       "      <td>12.000000</td>\n",
       "      <td>6.000000</td>\n",
       "    </tr>\n",
       "    <tr>\n",
       "      <th>75%</th>\n",
       "      <td>36.000000</td>\n",
       "      <td>18.000000</td>\n",
       "      <td>9.500000e+04</td>\n",
       "      <td>42.000000</td>\n",
       "      <td>20.000000</td>\n",
       "      <td>12.000000</td>\n",
       "    </tr>\n",
       "    <tr>\n",
       "      <th>max</th>\n",
       "      <td>279.000000</td>\n",
       "      <td>85.000000</td>\n",
       "      <td>2.000000e+06</td>\n",
       "      <td>475.000000</td>\n",
       "      <td>50.000000</td>\n",
       "      <td>50.000000</td>\n",
       "    </tr>\n",
       "  </tbody>\n",
       "</table>\n",
       "</div>"
      ],
      "text/plain": [
       "                Age    Age1stCode  ConvertedComp   WorkWeekHrs     YearsCode  \\\n",
       "count  30596.000000  34492.000000   3.475600e+04  33658.000000  34496.000000   \n",
       "mean      32.164388     15.176128   1.037561e+05     40.761557     14.282323   \n",
       "std        8.616750      4.722152   2.268853e+05     17.887200      9.310310   \n",
       "min        1.000000      5.000000   0.000000e+00      1.000000      1.000000   \n",
       "25%       26.000000     12.000000   2.464800e+04     40.000000      7.000000   \n",
       "50%       30.000000     15.000000   5.404900e+04     40.000000     12.000000   \n",
       "75%       36.000000     18.000000   9.500000e+04     42.000000     20.000000   \n",
       "max      279.000000     85.000000   2.000000e+06    475.000000     50.000000   \n",
       "\n",
       "       YearsCodePro  \n",
       "count  33144.000000  \n",
       "mean       8.834932  \n",
       "std        7.575306  \n",
       "min        1.000000  \n",
       "25%        3.000000  \n",
       "50%        6.000000  \n",
       "75%       12.000000  \n",
       "max       50.000000  "
      ]
     },
     "execution_count": 49,
     "metadata": {},
     "output_type": "execute_result"
    }
   ],
   "source": [
    "df.describe()"
   ]
  },
  {
   "cell_type": "markdown",
   "metadata": {},
   "source": [
    "## Cleaning 'Age'"
   ]
  },
  {
   "cell_type": "code",
   "execution_count": 50,
   "metadata": {},
   "outputs": [],
   "source": [
    "df.drop(df[df.Age<15].index, inplace=True)\n",
    "df.drop(df[df.Age>70].index, inplace=True)"
   ]
  },
  {
   "cell_type": "markdown",
   "metadata": {},
   "source": [
    "## Cleaning 'Age1stCode'"
   ]
  },
  {
   "cell_type": "code",
   "execution_count": 51,
   "metadata": {},
   "outputs": [],
   "source": [
    "df.drop(df[df.Age1stCode>50].index, inplace=True)"
   ]
  },
  {
   "cell_type": "markdown",
   "metadata": {},
   "source": [
    "## Cleaning 'WorkWeekHrs'"
   ]
  },
  {
   "cell_type": "code",
   "execution_count": 52,
   "metadata": {},
   "outputs": [],
   "source": [
    "df.drop(df[df.WorkWeekHrs>40].index, inplace=True)"
   ]
  },
  {
   "cell_type": "code",
   "execution_count": 53,
   "metadata": {},
   "outputs": [
    {
     "name": "stdout",
     "output_type": "stream",
     "text": [
      "df shape: (25427, 38)\n"
     ]
    },
    {
     "data": {
      "text/plain": [
       "Age                         3078\n",
       "Age1stCode                   189\n",
       "ConvertedComp                  0\n",
       "Country                        0\n",
       "DatabaseWorkedWith          3788\n",
       "DevType                      273\n",
       "EdLevel                      414\n",
       "Employment                    27\n",
       "Ethnicity                   3244\n",
       "Gender                      1951\n",
       "Hobbyist                       0\n",
       "LanguageWorkedWith           991\n",
       "MainBranch                     0\n",
       "MiscTechWorkedWith          7470\n",
       "NEWCollabToolsWorkedWith    1877\n",
       "NEWEdImpt                    356\n",
       "NEWJobHunt                  1686\n",
       "NEWLearn                    1419\n",
       "OpSys                       1139\n",
       "OrgSize                      409\n",
       "UndergradMajor              1877\n",
       "WebframeWorkedWith          6233\n",
       "WorkWeekHrs                 1093\n",
       "YearsCode                    171\n",
       "YearsCodePro                1202\n",
       "Countries                      0\n",
       "DataBase                    3788\n",
       "Dev_Type                     273\n",
       "new_dev_type                   0\n",
       "ethnicity                   3244\n",
       "Gender_new                  1951\n",
       "lang_worked_with            2100\n",
       "LangWorkedWith                 0\n",
       "TechWorkedWith              7470\n",
       "Tech_Worked_With               0\n",
       "collabtools                 1877\n",
       "CollabToolsWorkedWith          0\n",
       "webframe                    6233\n",
       "dtype: int64"
      ]
     },
     "execution_count": 53,
     "metadata": {},
     "output_type": "execute_result"
    }
   ],
   "source": [
    "print('df shape:', df.shape)\n",
    "df.isnull().sum()"
   ]
  },
  {
   "cell_type": "code",
   "execution_count": 54,
   "metadata": {},
   "outputs": [
    {
     "data": {
      "text/plain": [
       "Age                         0.121052\n",
       "Age1stCode                  0.007433\n",
       "ConvertedComp               0.000000\n",
       "Country                     0.000000\n",
       "DatabaseWorkedWith          0.148975\n",
       "DevType                     0.010737\n",
       "EdLevel                     0.016282\n",
       "Employment                  0.001062\n",
       "Ethnicity                   0.127581\n",
       "Gender                      0.076729\n",
       "Hobbyist                    0.000000\n",
       "LanguageWorkedWith          0.038974\n",
       "MainBranch                  0.000000\n",
       "MiscTechWorkedWith          0.293782\n",
       "NEWCollabToolsWorkedWith    0.073819\n",
       "NEWEdImpt                   0.014001\n",
       "NEWJobHunt                  0.066307\n",
       "NEWLearn                    0.055807\n",
       "OpSys                       0.044795\n",
       "OrgSize                     0.016085\n",
       "UndergradMajor              0.073819\n",
       "WebframeWorkedWith          0.245133\n",
       "WorkWeekHrs                 0.042986\n",
       "YearsCode                   0.006725\n",
       "YearsCodePro                0.047273\n",
       "Countries                   0.000000\n",
       "DataBase                    0.148975\n",
       "Dev_Type                    0.010737\n",
       "new_dev_type                0.000000\n",
       "ethnicity                   0.127581\n",
       "Gender_new                  0.076729\n",
       "lang_worked_with            0.082589\n",
       "LangWorkedWith              0.000000\n",
       "TechWorkedWith              0.293782\n",
       "Tech_Worked_With            0.000000\n",
       "collabtools                 0.073819\n",
       "CollabToolsWorkedWith       0.000000\n",
       "webframe                    0.245133\n",
       "dtype: float64"
      ]
     },
     "execution_count": 54,
     "metadata": {},
     "output_type": "execute_result"
    }
   ],
   "source": [
    "df.isnull().sum()/len(df)"
   ]
  },
  {
   "cell_type": "markdown",
   "metadata": {},
   "source": [
    "### After normalizing the dataset, none of the columns have missing values up to 50% so, I won't be dropping any"
   ]
  },
  {
   "cell_type": "markdown",
   "metadata": {},
   "source": [
    "## Checking columns for multicollinearity between the feature matrix"
   ]
  },
  {
   "cell_type": "code",
   "execution_count": 55,
   "metadata": {},
   "outputs": [
    {
     "data": {
      "text/plain": [
       "<AxesSubplot:>"
      ]
     },
     "execution_count": 55,
     "metadata": {},
     "output_type": "execute_result"
    },
    {
     "data": {
      "image/png": "[encoded data removed]",
      "text/plain": [
       "<Figure size 432x288 with 2 Axes>"
      ]
     },
     "metadata": {
      "needs_background": "light"
     },
     "output_type": "display_data"
    }
   ],
   "source": [
    "corr = df.select_dtypes('number').drop(columns='ConvertedComp').corr()\n",
    "sns.heatmap(corr)"
   ]
  },
  {
   "cell_type": "markdown",
   "metadata": {},
   "source": [
    "#### Age, YearsCode and YearsCodePro all have high correlation with each other so I will be checking their info to view the one that have the least missing values which will then guide me on which column to select in my feature matrix"
   ]
  },
  {
   "cell_type": "markdown",
   "metadata": {},
   "source": [
    "## Creating my feature matrix and target variable"
   ]
  },
  {
   "cell_type": "code",
   "execution_count": 56,
   "metadata": {},
   "outputs": [],
   "source": [
    "X = df[['Age1stCode', 'CollabToolsWorkedWith', 'Countries', 'DataBase', 'EdLevel', 'Employment', 'Gender_new', \n",
    "        'LangWorkedWith', 'MainBranch', 'NEWEdImpt', 'NEWLearn', 'OpSys','OrgSize', 'Tech_Worked_With', 'UndergradMajor', \n",
    "        'WorkWeekHrs', 'YearsCode', 'collabtools', 'ethnicity', 'new_dev_type', 'webframe']]\n",
    "y = df['ConvertedComp']"
   ]
  },
  {
   "cell_type": "markdown",
   "metadata": {},
   "source": [
    "### Splitting the dataset into train and test"
   ]
  },
  {
   "cell_type": "code",
   "execution_count": 57,
   "metadata": {},
   "outputs": [],
   "source": [
    "X_train, X_test, y_train, y_test = train_test_split(X, y, test_size = 0.3, random_state = 40)"
   ]
  },
  {
   "cell_type": "markdown",
   "metadata": {},
   "source": [
    "### Creating pipeline and fitting the model"
   ]
  },
  {
   "cell_type": "code",
   "execution_count": 58,
   "metadata": {},
   "outputs": [
    {
     "data": {
      "text/plain": [
       "Pipeline(steps=[('onehotencoder',\n",
       "                 OneHotEncoder(cols=['CollabToolsWorkedWith', 'Countries',\n",
       "                                     'DataBase', 'EdLevel', 'Employment',\n",
       "                                     'Gender_new', 'LangWorkedWith',\n",
       "                                     'MainBranch', 'NEWEdImpt', 'NEWLearn',\n",
       "                                     'OpSys', 'OrgSize', 'Tech_Worked_With',\n",
       "                                     'UndergradMajor', 'collabtools',\n",
       "                                     'ethnicity', 'new_dev_type', 'webframe'],\n",
       "                               use_cat_names=True)),\n",
       "                ('simpleimputer', SimpleImputer()), ('ridge', Ridge())])"
      ]
     },
     "execution_count": 58,
     "metadata": {},
     "output_type": "execute_result"
    }
   ],
   "source": [
    "model = make_pipeline(\n",
    "    OneHotEncoder(use_cat_names=True),\n",
    "    SimpleImputer(),\n",
    "    Ridge()\n",
    ")\n",
    "\n",
    "model.fit(X_train, y_train)"
   ]
  },
  {
   "cell_type": "code",
   "execution_count": 59,
   "metadata": {},
   "outputs": [
    {
     "data": {
      "text/plain": [
       "0.08114376685738256"
      ]
     },
     "execution_count": 59,
     "metadata": {},
     "output_type": "execute_result"
    }
   ],
   "source": [
    "model.score(X_test, y_test)"
   ]
  },
  {
   "cell_type": "code",
   "execution_count": 60,
   "metadata": {},
   "outputs": [
    {
     "data": {
      "text/plain": [
       "array([ 74315.23273863, 199868.01188892, 181233.65330879,  29323.2807203 ,\n",
       "        96021.63188198])"
      ]
     },
     "execution_count": 60,
     "metadata": {},
     "output_type": "execute_result"
    }
   ],
   "source": [
    "predictions = model.predict(X_test)\n",
    "predictions[:5]"
   ]
  },
  {
   "cell_type": "code",
   "execution_count": 61,
   "metadata": {},
   "outputs": [
    {
     "data": {
      "image/png": "[encoded data removed]",
      "text/plain": [
       "<Figure size 432x288 with 1 Axes>"
      ]
     },
     "metadata": {
      "needs_background": "light"
     },
     "output_type": "display_data"
    }
   ],
   "source": [
    "sns.regplot(y_test,predictions)\n",
    "plt.xlabel('Y Test')\n",
    "plt.ylabel('Predicted Y');"
   ]
  },
  {
   "cell_type": "markdown",
   "metadata": {},
   "source": [
    "## Checking Residuals"
   ]
  },
  {
   "cell_type": "code",
   "execution_count": 62,
   "metadata": {},
   "outputs": [
    {
     "data": {
      "image/png": "[encoded data removed]",
      "text/plain": [
       "<Figure size 432x288 with 1 Axes>"
      ]
     },
     "metadata": {
      "needs_background": "light"
     },
     "output_type": "display_data"
    }
   ],
   "source": [
    "sns.regplot(x=y_test, y=y_test - predictions)\n",
    "plt.title('Residual Plot')\n",
    "plt.xlabel('Predicted Values')\n",
    "plt.ylabel('Residuals');"
   ]
  },
  {
   "cell_type": "code",
   "execution_count": 63,
   "metadata": {},
   "outputs": [
    {
     "name": "stdout",
     "output_type": "stream",
     "text": [
      "intercept value is: 54933.38340350219\n"
     ]
    }
   ],
   "source": [
    "intercept = model.named_steps['ridge'].intercept_\n",
    "print('intercept value is:', intercept)"
   ]
  },
  {
   "cell_type": "code",
   "execution_count": 64,
   "metadata": {},
   "outputs": [
    {
     "name": "stdout",
     "output_type": "stream",
     "text": [
      "coefficient len: 160\n"
     ]
    },
    {
     "data": {
      "text/plain": [
       "array([  204.47994639,  3999.76875494,   557.56168217, -2255.30342864,\n",
       "       -2302.02700772])"
      ]
     },
     "execution_count": 64,
     "metadata": {},
     "output_type": "execute_result"
    }
   ],
   "source": [
    "coefficients = model.named_steps['ridge'].coef_\n",
    "print('coefficient len:', len(coefficients))\n",
    "coefficients[:5]"
   ]
  },
  {
   "cell_type": "code",
   "execution_count": 65,
   "metadata": {},
   "outputs": [
    {
     "name": "stdout",
     "output_type": "stream",
     "text": [
      "feature len: 160\n",
      "['Age1stCode', 'CollabToolsWorkedWith_other collab tools', 'CollabToolsWorkedWith_Confluence', 'CollabToolsWorkedWith_Github', 'CollabToolsWorkedWith_Jira']\n"
     ]
    }
   ],
   "source": [
    "feature_names = model.named_steps['onehotencoder'].get_feature_names()\n",
    "print('feature len:', len(feature_names))\n",
    "print(feature_names[:5])"
   ]
  },
  {
   "cell_type": "code",
   "execution_count": 66,
   "metadata": {},
   "outputs": [
    {
     "data": {
      "text/plain": [
       "Age1stCode                                   204.479946\n",
       "CollabToolsWorkedWith_other collab tools    3999.768755\n",
       "CollabToolsWorkedWith_Confluence             557.561682\n",
       "CollabToolsWorkedWith_Github               -2255.303429\n",
       "CollabToolsWorkedWith_Jira                 -2302.027008\n",
       "dtype: float64"
      ]
     },
     "execution_count": 66,
     "metadata": {},
     "output_type": "execute_result"
    }
   ],
   "source": [
    "feat_imp = pd.Series(coefficients, index=feature_names)\n",
    "feat_imp.head()"
   ]
  },
  {
   "cell_type": "code",
   "execution_count": null,
   "metadata": {},
   "outputs": [],
   "source": []
  }
 ],
 "metadata": {
  "kernelspec": {
   "display_name": "Python 3",
   "language": "python",
   "name": "python3"
  },
  "language_info": {
   "codemirror_mode": {
    "name": "ipython",
    "version": 3
   },
   "file_extension": ".py",
   "mimetype": "text/x-python",
   "name": "python",
   "nbconvert_exporter": "python",
   "pygments_lexer": "ipython3",
   "version": "3.8.5"
  }
 },
 "nbformat": 4,
 "nbformat_minor": 4
}
